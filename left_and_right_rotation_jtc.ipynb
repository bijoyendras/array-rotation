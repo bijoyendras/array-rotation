{
  "nbformat": 4,
  "nbformat_minor": 0,
  "metadata": {
    "colab": {
      "provenance": []
    },
    "kernelspec": {
      "name": "python3",
      "display_name": "Python 3"
    },
    "language_info": {
      "name": "python"
    }
  },
  "cells": [
    {
      "cell_type": "code",
      "source": [
        "\n",
        "# creating an empty list\n",
        "array = []\n",
        "  \n",
        "# number of elements as input\n",
        "n = int(input(\"Enter number of elements and press enter \"))\n",
        "  \n",
        "# iterating till the range\n",
        "\n",
        "print(\"\\n Enter Array Elements One By One\")\n",
        "for i in range(0, n):\n",
        "    ele = int(input())\n",
        "  \n",
        "    array.append(ele) # adding the element\n",
        "      \n",
        "print(array)\n",
        "\n",
        "p = int(input(\"\\nEnter Position For Rotation \"))\n",
        "d = int(input(\"\\nEnter Direction either 0 for left or 1 for right \"))\n",
        "\n",
        "\n",
        "\n",
        "def rotate_r(L, p, n):\n",
        "    k = L.index(p)\n",
        "    new_lis = []\n",
        "    new_lis = L[(k+1):]+L[0:(k+1)]\n",
        "    return new_lis\n",
        "\n",
        "def rotate_l(L, p, n):\n",
        "    k = L.index(p)\n",
        "    new_lis = []\n",
        "    new_lis = L[-(k+1):]+L[0:-(k+1)]\n",
        "    return new_lis\n",
        " \n",
        " \n",
        "if d==0:\n",
        "    #arr = [1, 2, 3, 4, 5, 6, 7]\n",
        "    #p = 2\n",
        "    #N = len(arr)\n",
        " \n",
        "    # Function call\n",
        "    array = rotate_r(array, p, n)\n",
        "    for i in array:\n",
        "        print(i, end=\" , \")\n",
        "if d==1:\n",
        "    #arr = [1, 2, 3, 4, 5, 6, 7]\n",
        "    #p = 2\n",
        "    #N = len(arr)\n",
        " \n",
        "    # Function call\n",
        "    array = rotate_l(array, p, n)\n",
        "    for i in array:\n",
        "        print(i, end=\" , \")"
      ],
      "metadata": {
        "colab": {
          "base_uri": "https://localhost:8080/"
        },
        "id": "WjXLdZmGx4bn",
        "outputId": "9fc9101d-c73c-4dc4-8e64-ea1262876121"
      },
      "execution_count": null,
      "outputs": [
        {
          "output_type": "stream",
          "name": "stdout",
          "text": [
            "Enter number of elements and press enter 7\n",
            "\n",
            " Enter Array Elements One By One\n",
            "1\n",
            "2\n",
            "3\n",
            "4\n",
            "5\n",
            "6\n",
            "7\n",
            "[1, 2, 3, 4, 5, 6, 7]\n",
            "\n",
            "Enter Position For Rotation 2\n",
            "\n",
            "Enter Direction either 0 for left or 1 for right 0\n",
            "6 , 7 , 1 , 2 , 3 , 4 , 5 , "
          ]
        }
      ]
    }
  ]
}